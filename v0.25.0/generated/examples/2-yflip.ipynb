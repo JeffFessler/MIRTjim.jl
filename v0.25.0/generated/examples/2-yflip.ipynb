{
 "cells": [
  {
   "cell_type": "markdown",
   "source": [
    "# Option `yflip`\n",
    "\n",
    "Examples illustrating the `yflip` option in the Julia package\n",
    "[`MIRTjim`](https://github.com/JeffFessler/MIRTjim.jl)."
   ],
   "metadata": {}
  },
  {
   "cell_type": "markdown",
   "source": [
    "### Setup"
   ],
   "metadata": {}
  },
  {
   "cell_type": "markdown",
   "source": [
    "Packages needed here."
   ],
   "metadata": {}
  },
  {
   "outputs": [],
   "cell_type": "code",
   "source": [
    "using MIRTjim: jim, prompt\n",
    "using ImageGeoms: ImageGeom\n",
    "using ImagePhantoms: shepp_logan, SheppLoganEmis, phantom\n",
    "using InteractiveUtils: versioninfo"
   ],
   "metadata": {},
   "execution_count": null
  },
  {
   "cell_type": "markdown",
   "source": [
    "The following line is helpful when running this file as a script;\n",
    "this way it will prompt user to hit a key after each figure is displayed."
   ],
   "metadata": {}
  },
  {
   "outputs": [],
   "cell_type": "code",
   "source": [
    "isinteractive() ? jim(:prompt, true) : prompt(:draw);"
   ],
   "metadata": {},
   "execution_count": null
  },
  {
   "cell_type": "markdown",
   "source": [
    "## Simple 2D image and 3D stack of images"
   ],
   "metadata": {}
  },
  {
   "outputs": [],
   "cell_type": "code",
   "source": [
    "i1 = shepp_logan(128, SheppLoganEmis()) # 2D image\n",
    "i1 = i1[12:117,:] # non-square for illustration\n",
    "i2 = cat(dims=3, i1, 2i1, 3i1)/3 # 3D stack of images\n",
    "size(i2)"
   ],
   "metadata": {},
   "execution_count": null
  },
  {
   "cell_type": "markdown",
   "source": [
    "This figure illustrates how the `yflip` option affects\n",
    "the image orientation in the \"usual\" case where y=1:N.\n",
    "This is a typical convention in \"image processing\" of digital images\n",
    "that lack any physical coordinates for their axes."
   ],
   "metadata": {}
  },
  {
   "outputs": [],
   "cell_type": "code",
   "source": [
    "ji = (args...; kwargs...) ->\n",
    " jim(args...; size=(700,400), kwargs..., prompt=false)\n",
    "jim(\n",
    "    ji(i1, \"2D default\"),\n",
    "    ji(i1, yflip=false, \"2D yflip=false\"),\n",
    "    ji(i1, yflip=true, \"2D yflip=true\"),\n",
    "    ji(i2, ncol=2, \"3D default\"),\n",
    "    ji(i2, ncol=2, yflip=false, \"3D yflip=false\"),\n",
    "    ji(i2, ncol=2, yflip=true, \"3D yflip=true\"),\n",
    ")"
   ],
   "metadata": {},
   "execution_count": null
  },
  {
   "cell_type": "markdown",
   "source": [
    "## 2D image and 3D stack of images with specified x,y coordinates\n",
    "\n",
    "Now consider the case where we think of the image as a function `f(x,y)`\n",
    "in the typical case where 0,0 is in the \"center\" of the image.\n",
    "This convention is more common in physics-based imaging and inverse problems\n",
    "where the image axes have meaningful values (and often have units)."
   ],
   "metadata": {}
  },
  {
   "outputs": [],
   "cell_type": "code",
   "source": [
    "objects = shepp_logan(SheppLoganEmis(); fovs=(120,120))\n",
    "ig = ImageGeom(dims=(50,64), deltas=(2,2), offsets=(0.5,0.5))\n",
    "ax = axes(ig)\n",
    "i3 = phantom(ax..., objects)\n",
    "i4 = cat(dims=3, i3, 2i3, 3i3) # 3D stack of images\n",
    "\n",
    "jim(\n",
    "    ji(ax, i3, \"2D default\", xlabel=\"x\", ylabel=\"y\"),\n",
    "    ji(ax, i3, yflip=false, \"2D yflip=false\"),\n",
    "    ji(ax, i3, yflip=true, \"2D yflip=true\"),\n",
    "    ji(ax, i4, ncol=2, \"3D default\"),\n",
    "    ji(ax, i4, ncol=2, yflip=false, \"3D yflip=false\"),\n",
    "    ji(ax, i4, ncol=2, yflip=true, \"3D yflip=true\"),\n",
    "    prompt = false, gui = true,\n",
    ")"
   ],
   "metadata": {},
   "execution_count": null
  },
  {
   "cell_type": "markdown",
   "source": [
    "In both cases the \"default\" option for `yflip`\n",
    "has the typical desired behavior,\n",
    "but one can modify the default to achieve other behaviors."
   ],
   "metadata": {}
  },
  {
   "cell_type": "markdown",
   "source": [
    "---\n",
    "\n",
    "*This notebook was generated using [Literate.jl](https://github.com/fredrikekre/Literate.jl).*"
   ],
   "metadata": {}
  }
 ],
 "nbformat_minor": 3,
 "metadata": {
  "language_info": {
   "file_extension": ".jl",
   "mimetype": "application/julia",
   "name": "julia",
   "version": "1.10.3"
  },
  "kernelspec": {
   "name": "julia-1.10",
   "display_name": "Julia 1.10.3",
   "language": "julia"
  }
 },
 "nbformat": 4
}
